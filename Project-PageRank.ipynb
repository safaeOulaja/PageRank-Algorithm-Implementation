{
 "cells": [
  {
   "cell_type": "markdown",
   "id": "97c9ae9c",
   "metadata": {},
   "source": [
    "# 1- Coded Page Rank Algorithm"
   ]
  },
  {
   "cell_type": "markdown",
   "id": "9a60a6cc",
   "metadata": {},
   "source": [
    "## Core Page Rank algorithm"
   ]
  },
  {
   "cell_type": "code",
   "execution_count": 1,
   "id": "32e5901e",
   "metadata": {},
   "outputs": [],
   "source": [
    "# import necessary libs\n",
    "import numpy as np\n",
    "import xml.etree.ElementTree as ET"
   ]
  },
  {
   "cell_type": "code",
   "execution_count": 2,
   "id": "7f2b8717",
   "metadata": {},
   "outputs": [],
   "source": [
    "def page_rank_score(graph, λ=0.85, ε=1.0e-6):\n",
    "    N = len(graph)\n",
    "    P = np.zeros((N, N))\n",
    "\n",
    "    # Build the transition probability matrix P\n",
    "    for i in range(N):\n",
    "        out_links = sum(graph[i])\n",
    "        if out_links == 0:\n",
    "            P[i] = np.ones(N) / N  # Handle dangling nodes\n",
    "        else:\n",
    "            P[i] = graph[i] / out_links\n",
    "\n",
    "    # Initialize PageRank values\n",
    "    R = np.ones(N) / N\n",
    "    delta = 1  # Difference between old and new ranks\n",
    "    iterations = 0  # Counter to track the number of iterations\n",
    "\n",
    "    # Iterate until the change is smaller than epsilon (ε)\n",
    "    while delta > ε:\n",
    "        R_new = λ * np.dot(R, P) + (1 - λ) / N  # Update PageRank values\n",
    "        delta = np.linalg.norm(R_new - R, 1)  # Calculate the difference\n",
    "        R = R_new\n",
    "        iterations += 1  # Increment the iteration counter\n",
    "\n",
    "    print(f\"Converged in {iterations} iterations.\")  # Show iteration count\n",
    "    return R"
   ]
  },
  {
   "cell_type": "code",
   "execution_count": 3,
   "id": "6256a009",
   "metadata": {},
   "outputs": [],
   "source": [
    "# Print PageRank scores from any source\n",
    "def print_page_rank(page_ranks, node_map):\n",
    "    for node, index in node_map.items():\n",
    "        percentage = page_ranks[index] * 100\n",
    "        print(f\"The PageRank of node {node}: {percentage:.1f}%\")"
   ]
  },
  {
   "cell_type": "markdown",
   "id": "e09a8374",
   "metadata": {},
   "source": [
    "### Method 1 : PageRank from adjacency matrix"
   ]
  },
  {
   "cell_type": "code",
   "execution_count": 4,
   "id": "ac2cb466",
   "metadata": {},
   "outputs": [],
   "source": [
    "def page_rank_score_method1(adj_matrix, λ=0.85, ε=1.0e-6):\n",
    "    return page_rank_score(adj_matrix, λ, ε)"
   ]
  },
  {
   "cell_type": "code",
   "execution_count": 5,
   "id": "09f7ce65",
   "metadata": {},
   "outputs": [],
   "source": [
    "# Example: Adjacency matrix input\n",
    "adj_matrix = np.array([\n",
    "    [0, 0, 0, 0, 0, 0, 0, 0, 0, 0, 0],  # A\n",
    "    [0, 0, 1, 0, 0, 0, 0, 0, 0, 0, 0],  # B\n",
    "    [0, 1, 0, 0, 0, 0, 0, 0, 0, 0, 0],  # C\n",
    "    [1, 1, 0, 0, 0, 0, 0, 0, 0, 0, 0],  # D\n",
    "    [0, 1, 0, 1, 0, 1, 0, 0, 0, 0, 0],  # E\n",
    "    [0, 1, 0, 0, 1, 0, 0, 0, 0, 0, 0],  # F\n",
    "    [0, 1, 0, 0, 1, 0, 0, 0, 0, 0, 0],  # G\n",
    "    [0, 1, 0, 0, 1, 0, 0, 0, 0, 0, 0],  # H\n",
    "    [0, 1, 0, 0, 1, 0, 0, 0, 0, 0, 0],  # I\n",
    "    [0, 0, 0, 0, 1, 0, 0, 0, 0, 0, 0],  # L\n",
    "    [0, 0, 0, 0, 1, 0, 0, 0, 0, 0, 0]   # M\n",
    "])\n",
    "node_ids = ['A', 'B', 'C', 'D', 'E', 'F', 'G', 'H', 'I', 'L', 'M']"
   ]
  },
  {
   "cell_type": "code",
   "execution_count": 6,
   "id": "f2f2736d",
   "metadata": {},
   "outputs": [
    {
     "name": "stdout",
     "output_type": "stream",
     "text": [
      "PageRank from Matrix:\n",
      "Converged in 81 iterations.\n",
      "The PageRank of node A: 3.3%\n",
      "The PageRank of node B: 38.4%\n",
      "The PageRank of node C: 34.3%\n",
      "The PageRank of node D: 3.9%\n",
      "The PageRank of node E: 8.1%\n",
      "The PageRank of node F: 3.9%\n",
      "The PageRank of node G: 1.6%\n",
      "The PageRank of node H: 1.6%\n",
      "The PageRank of node I: 1.6%\n",
      "The PageRank of node L: 1.6%\n",
      "The PageRank of node M: 1.6%\n"
     ]
    }
   ],
   "source": [
    "# Call the functions to print PageRank scores\n",
    "print(\"PageRank from Matrix:\")\n",
    "page_ranks = page_rank_score_method1(adj_matrix)\n",
    "print_page_rank(page_ranks, {node: i for i, node in enumerate(node_ids)})"
   ]
  },
  {
   "cell_type": "markdown",
   "id": "df221d2b",
   "metadata": {},
   "source": [
    "### Method 2 : PageRank from an XML file"
   ]
  },
  {
   "cell_type": "code",
   "execution_count": 7,
   "id": "e9e9e4cd",
   "metadata": {},
   "outputs": [],
   "source": [
    "# PageRank from XML graph representation\n",
    "def page_rank_score_method2(xml_file, λ=0.85, ε=1.0e-6):\n",
    "    tree = ET.parse(xml_file)\n",
    "    root = tree.getroot()\n",
    "    nodes = root.findall('.//node')\n",
    "\n",
    "    # Map node IDs to indices\n",
    "    node_id_map = {node.get('id'): index for index, node in enumerate(nodes)}\n",
    "    N = len(nodes)\n",
    "    graph = np.zeros((N, N))\n",
    "\n",
    "    # Populate the graph matrix based on XML structure\n",
    "    for node in nodes:\n",
    "        node_id = node.get('id')\n",
    "        for edge in node.findall('.//edge'):\n",
    "            target_id = edge.get('target')\n",
    "            if target_id in node_id_map:\n",
    "                graph[node_id_map[node_id], node_id_map[target_id]] = 1\n",
    "\n",
    "    return page_rank_score(graph, λ, ε), node_id_map"
   ]
  },
  {
   "cell_type": "code",
   "execution_count": 8,
   "id": "ee978208",
   "metadata": {},
   "outputs": [
    {
     "name": "stdout",
     "output_type": "stream",
     "text": [
      "\n",
      "PageRank from XML:\n",
      "Converged in 81 iterations.\n",
      "The PageRank of node A: 3.3%\n",
      "The PageRank of node B: 38.4%\n",
      "The PageRank of node C: 34.3%\n",
      "The PageRank of node D: 3.9%\n",
      "The PageRank of node E: 8.1%\n",
      "The PageRank of node F: 3.9%\n",
      "The PageRank of node G: 1.6%\n",
      "The PageRank of node H: 1.6%\n",
      "The PageRank of node I: 1.6%\n",
      "The PageRank of node L: 1.6%\n",
      "The PageRank of node M: 1.6%\n"
     ]
    }
   ],
   "source": [
    "print(\"\\nPageRank from XML:\")\n",
    "xml_file_path = 'C:/Users/dell/Downloads/BDSaS S3/graph-2.xml'\n",
    "page_ranks, node_map = page_rank_score_method2(xml_file_path)\n",
    "print_page_rank(page_ranks, node_map)"
   ]
  },
  {
   "cell_type": "markdown",
   "id": "29c4ad4e",
   "metadata": {},
   "source": [
    "### Method 3 : PageRank from a graph"
   ]
  },
  {
   "cell_type": "code",
   "execution_count": 9,
   "id": "c1add45b",
   "metadata": {},
   "outputs": [],
   "source": [
    "# PageRank from a manually defined graph\n",
    "def page_rank_score_method3(nodes, edges, λ=0.85, ε=1.0e-6):\n",
    "    N = len(nodes)  # Number of nodes\n",
    "    graph = np.zeros((N, N))\n",
    "\n",
    "    # Create a mapping of node names to indices\n",
    "    node_index = {node: idx for idx, node in enumerate(nodes)}\n",
    "\n",
    "    # Populate the adjacency matrix based on edges\n",
    "    for src, dst in edges:\n",
    "        graph[node_index[src], node_index[dst]] = 1\n",
    "\n",
    "    return page_rank_score(graph, λ, ε), node_index"
   ]
  },
  {
   "cell_type": "code",
   "execution_count": 10,
   "id": "d0e32914",
   "metadata": {},
   "outputs": [],
   "source": [
    "# Example: Graph input\n",
    "nodes = ['A', 'B', 'C', 'D', 'E', 'F', 'G', 'H', 'I', 'L', 'M']\n",
    "edges = [\n",
    "    ('B', 'C'),  # B -> C\n",
    "    ('C', 'B'),  # C -> B\n",
    "    ('D', 'B'),  # D -> B\n",
    "    ('D', 'A'),  # D -> A\n",
    "    ('E', 'F'),  # E -> F\n",
    "    ('E', 'B'),  # E -> B\n",
    "    ('E', 'D'),  # E -> D\n",
    "    ('F', 'B'),  # F -> B\n",
    "    ('F', 'E'),  # F -> E\n",
    "    ('G', 'E'),  # G -> E\n",
    "    ('G', 'B'),  # G -> B\n",
    "    ('H', 'B'),  # H -> B\n",
    "    ('H', 'E'),  # H -> E\n",
    "    ('I', 'B'),  # I -> B\n",
    "    ('I', 'E'),  # I -> E\n",
    "    ('L', 'E'),  # L -> E\n",
    "    ('M', 'E')   # M -> E\n",
    "]"
   ]
  },
  {
   "cell_type": "code",
   "execution_count": 11,
   "id": "0ee2f488",
   "metadata": {},
   "outputs": [
    {
     "name": "stdout",
     "output_type": "stream",
     "text": [
      "\n",
      "PageRank from Graph:\n",
      "Converged in 81 iterations.\n",
      "The PageRank of node A: 3.3%\n",
      "The PageRank of node B: 38.4%\n",
      "The PageRank of node C: 34.3%\n",
      "The PageRank of node D: 3.9%\n",
      "The PageRank of node E: 8.1%\n",
      "The PageRank of node F: 3.9%\n",
      "The PageRank of node G: 1.6%\n",
      "The PageRank of node H: 1.6%\n",
      "The PageRank of node I: 1.6%\n",
      "The PageRank of node L: 1.6%\n",
      "The PageRank of node M: 1.6%\n"
     ]
    }
   ],
   "source": [
    "print(\"\\nPageRank from Graph:\")\n",
    "page_ranks, node_map = page_rank_score_method3(nodes, edges)\n",
    "print_page_rank(page_ranks, node_map)"
   ]
  },
  {
   "cell_type": "markdown",
   "id": "e1523036",
   "metadata": {},
   "source": [
    "# 2- Built-in PageRank function "
   ]
  },
  {
   "cell_type": "markdown",
   "id": "79bde644",
   "metadata": {},
   "source": [
    "### with a Graph"
   ]
  },
  {
   "cell_type": "code",
   "execution_count": 24,
   "id": "b157b629",
   "metadata": {},
   "outputs": [
    {
     "name": "stdout",
     "output_type": "stream",
     "text": [
      "The PageRank of node B: 38.4%\n",
      "The PageRank of node C: 34.3%\n",
      "The PageRank of node D: 3.9%\n",
      "The PageRank of node A: 3.3%\n",
      "The PageRank of node E: 8.1%\n",
      "The PageRank of node F: 3.9%\n",
      "The PageRank of node G: 1.6%\n",
      "The PageRank of node H: 1.6%\n",
      "The PageRank of node I: 1.6%\n",
      "The PageRank of node L: 1.6%\n",
      "The PageRank of node M: 1.6%\n"
     ]
    }
   ],
   "source": [
    "import networkx as nx\n",
    "\n",
    "# Example graph represented as a dictionary\n",
    "graph = {\n",
    "    'A': [],\n",
    "    'B': ['C'],\n",
    "    'C': ['B'],\n",
    "    'D': ['B', 'A'],\n",
    "    'E': ['F', 'B', 'D'],\n",
    "    'F': ['B', 'E'],\n",
    "    'G': ['E', 'B'],\n",
    "    'H': ['B', 'E'],\n",
    "    'I': ['B', 'E'],\n",
    "    'L': ['E'],\n",
    "    'M': ['E']\n",
    "}\n",
    "\n",
    "# Create a directed graph from the dictionary\n",
    "G = nx.DiGraph()\n",
    "\n",
    "# Add edges to the graph based on the input dictionary\n",
    "for node, edges in graph.items():\n",
    "    for edge in edges:\n",
    "        G.add_edge(node, edge)\n",
    "\n",
    "# Calculate PageRank using NetworkX directly\n",
    "page_rank_scores_G = nx.pagerank(G, alpha=0.85)\n",
    "\n",
    "# Output the PageRank scores formatted to one decimal place\n",
    "for node, score in page_rank_scores_G.items():\n",
    "    print(f\"The PageRank of node {node}: {round(score * 100, 1)}%\")"
   ]
  },
  {
   "cell_type": "markdown",
   "id": "7208d501",
   "metadata": {},
   "source": [
    "### with an XML file"
   ]
  },
  {
   "cell_type": "code",
   "execution_count": 25,
   "id": "b3a535fe",
   "metadata": {},
   "outputs": [
    {
     "name": "stdout",
     "output_type": "stream",
     "text": [
      "The PageRank of node B: 38.4%\n",
      "The PageRank of node C: 34.3%\n",
      "The PageRank of node D: 3.9%\n",
      "The PageRank of node A: 3.3%\n",
      "The PageRank of node E: 8.1%\n",
      "The PageRank of node F: 3.9%\n",
      "The PageRank of node G: 1.6%\n",
      "The PageRank of node H: 1.6%\n",
      "The PageRank of node I: 1.6%\n",
      "The PageRank of node L: 1.6%\n",
      "The PageRank of node M: 1.6%\n"
     ]
    }
   ],
   "source": [
    "import xml.etree.ElementTree as ET\n",
    "import networkx as nx\n",
    "\n",
    "# Parse the XML file\n",
    "tree = ET.parse('C:/Users/dell/Downloads/BDSaS S3/graph.xml')\n",
    "root = tree.getroot()\n",
    "\n",
    "# Create a directed graph\n",
    "G = nx.DiGraph()\n",
    "\n",
    "# Extract nodes and their outlinks from the XML\n",
    "for node in root.findall('node'):\n",
    "    node_id = node.get('id')\n",
    "    for outlink in node.findall('outlink'):\n",
    "        linked_node_id = outlink.text.strip()\n",
    "        G.add_edge(node_id, linked_node_id)\n",
    "\n",
    "# Calculate PageRank using NetworkX\n",
    "page_rank_scores_X = nx.pagerank(G, alpha=0.85)\n",
    "\n",
    "# Output the PageRank scores formatted to one decimal place\n",
    "for node, score in page_rank_scores_X.items():\n",
    "    print(f\"The PageRank of node {node}: {round(score * 100, 1)}%\")\n"
   ]
  },
  {
   "cell_type": "markdown",
   "id": "61b58daf",
   "metadata": {},
   "source": [
    "### with an adjancency matrix"
   ]
  },
  {
   "cell_type": "code",
   "execution_count": 28,
   "id": "f10f1210",
   "metadata": {},
   "outputs": [
    {
     "name": "stdout",
     "output_type": "stream",
     "text": [
      "The PageRank of node A: 3.3%\n",
      "The PageRank of node B: 38.4%\n",
      "The PageRank of node C: 34.3%\n",
      "The PageRank of node D: 3.9%\n",
      "The PageRank of node E: 8.1%\n",
      "The PageRank of node F: 3.9%\n",
      "The PageRank of node G: 1.6%\n",
      "The PageRank of node H: 1.6%\n",
      "The PageRank of node I: 1.6%\n",
      "The PageRank of node L: 1.6%\n",
      "The PageRank of node M: 1.6%\n"
     ]
    }
   ],
   "source": [
    "import numpy as np\n",
    "import networkx as nx\n",
    "\n",
    "# Define the adjacency matrix\n",
    "adj_matrix = np.array([\n",
    "    [0, 0, 0, 0, 0, 0, 0, 0, 0, 0, 0],  # A\n",
    "    [0, 0, 1, 0, 0, 0, 0, 0, 0, 0, 0],  # B\n",
    "    [0, 1, 0, 0, 0, 0, 0, 0, 0, 0, 0],  # C\n",
    "    [1, 1, 0, 0, 0, 0, 0, 0, 0, 0, 0],  # D\n",
    "    [0, 1, 0, 1, 0, 1, 0, 0, 0, 0, 0],  # E\n",
    "    [0, 1, 0, 0, 1, 0, 0, 0, 0, 0, 0],  # F\n",
    "    [0, 1, 0, 0, 1, 0, 0, 0, 0, 0, 0],  # G\n",
    "    [0, 1, 0, 0, 1, 0, 0, 0, 0, 0, 0],  # H\n",
    "    [0, 1, 0, 0, 1, 0, 0, 0, 0, 0, 0],  # I\n",
    "    [0, 0, 0, 0, 1, 0, 0, 0, 0, 0, 0],  # L\n",
    "    [0, 0, 0, 0, 1, 0, 0, 0, 0, 0, 0]   # M\n",
    "])\n",
    "\n",
    "# Create a directed graph from the adjacency matrix\n",
    "G = nx.from_numpy_array(adj_matrix, create_using=nx.DiGraph)\n",
    "\n",
    "# Define node labels (to match your original labels)\n",
    "node_labels = ['A', 'B', 'C', 'D', 'E', 'F', 'G', 'H', 'I', 'L', 'M']\n",
    "\n",
    "# Relabel the nodes in the graph\n",
    "G = nx.relabel_nodes(G, {i: label for i, label in enumerate(node_labels)})\n",
    "\n",
    "# Calculate PageRank using NetworkX\n",
    "page_rank_scores_A = nx.pagerank(G, alpha=0.85)\n",
    "\n",
    "for node, score in page_rank_scores_A.items():\n",
    "    print(f\"The PageRank of node {node}: {round(score * 100, 1)}%\")\n"
   ]
  }
 ],
 "metadata": {
  "kernelspec": {
   "display_name": "Python 3 (ipykernel)",
   "language": "python",
   "name": "python3"
  },
  "language_info": {
   "codemirror_mode": {
    "name": "ipython",
    "version": 3
   },
   "file_extension": ".py",
   "mimetype": "text/x-python",
   "name": "python",
   "nbconvert_exporter": "python",
   "pygments_lexer": "ipython3",
   "version": "3.11.5"
  }
 },
 "nbformat": 4,
 "nbformat_minor": 5
}
